{
  "nbformat": 4,
  "nbformat_minor": 0,
  "metadata": {
    "colab": {
      "provenance": [],
      "authorship_tag": "ABX9TyPV9PqhnO9A5YiY1qzV2yQc",
      "include_colab_link": true
    },
    "kernelspec": {
      "name": "python3",
      "display_name": "Python 3"
    },
    "language_info": {
      "name": "python"
    }
  },
  "cells": [
    {
      "cell_type": "markdown",
      "metadata": {
        "id": "view-in-github",
        "colab_type": "text"
      },
      "source": [
        "<a href=\"https://colab.research.google.com/github/Manish-Bilore/ME-781-/blob/main/23m0312__Week01_Assignment_01_using_R2.ipynb\" target=\"_parent\"><img src=\"https://colab.research.google.com/assets/colab-badge.svg\" alt=\"Open In Colab\"/></a>"
      ]
    },
    {
      "cell_type": "code",
      "execution_count": 1,
      "metadata": {
        "colab": {
          "base_uri": "https://localhost:8080/"
        },
        "id": "mSVn1s-LKTqo",
        "outputId": "c2110ec9-c271-46cb-ce6f-1423aca463e2"
      },
      "outputs": [
        {
          "output_type": "stream",
          "name": "stdout",
          "text": [
            "Mounted at /content/drive\n"
          ]
        }
      ],
      "source": [
        "from google.colab import drive\n",
        "drive.mount('/content/drive')"
      ]
    },
    {
      "cell_type": "code",
      "source": [
        "# import lib\n",
        "import pandas as pd\n",
        "import numpy as np\n",
        "import matplotlib.pyplot as plt\n",
        "import seaborn as sns"
      ],
      "metadata": {
        "id": "qSMwOdQRKuGg"
      },
      "execution_count": 2,
      "outputs": []
    },
    {
      "cell_type": "code",
      "source": [
        "# Load data\n",
        "filepath = \"/content/drive/MyDrive/ME781/data.csv\"\n",
        "df = pd.read_csv(filepath, skiprows=3, header=None)"
      ],
      "metadata": {
        "id": "HEI6-qmWK3MW"
      },
      "execution_count": 3,
      "outputs": []
    },
    {
      "cell_type": "code",
      "source": [
        "# Split data into men and women\n",
        "df_men = df.iloc[:, [0,1,2]]\n",
        "df_women = df.iloc[:, [0,1,3]]"
      ],
      "metadata": {
        "id": "zMhUtSv8LQxX"
      },
      "execution_count": 4,
      "outputs": []
    },
    {
      "cell_type": "code",
      "source": [
        "# Clean data # Since women's rows are missing\n",
        "copy = df_women.copy()\n",
        "copy.dropna(axis = 0, inplace = True)\n",
        "copy.reset_index(drop = True, inplace = True)\n",
        "df_women = copy"
      ],
      "metadata": {
        "id": "9Hi5wjlWLh0A"
      },
      "execution_count": 8,
      "outputs": []
    },
    {
      "cell_type": "markdown",
      "source": [
        "${\\text{Computing } \\beta_0, \\beta_1 \\text{ for the Year vs Time (Seconds) in data set}}:$"
      ],
      "metadata": {
        "id": "0iQ9ftJJMOUk"
      }
    },
    {
      "cell_type": "markdown",
      "source": [
        "${\\text{Computing } \\ R^2 \\text{ for data set}}:$"
      ],
      "metadata": {
        "id": "hTmD-gz5O8Iu"
      }
    },
    {
      "cell_type": "code",
      "source": [
        "def coefficients(df): # argument is a dataframe\n",
        "\n",
        "  # beta_0 and beta_1 in the dataset\n",
        "\n",
        "  n = len(df.index)\n",
        "  print(f\"The number of data points in the data set is : {n}\\n\")\n",
        "\n",
        "  # compute x_bar and y_bar\n",
        "  x_bar = 0\n",
        "  y_bar = 0\n",
        "\n",
        "  # Summing all the values\n",
        "  for i in range(n):\n",
        "    x_bar += float(df.iat[i, 1]) # Event Year\n",
        "    y_bar += float(df.iat[i, 2]) # Sprint Time\n",
        "\n",
        "  # Getting the mean\n",
        "  x_bar /= n\n",
        "  y_bar /= n\n",
        "\n",
        "  # Check\n",
        "  print('x bar:',x_bar, '\\ny bar:',y_bar, '\\n')\n",
        "\n",
        "  # compute the Sigma_XX and Sigma_XY\n",
        "  sigma_xx = 0\n",
        "  sigma_xy = 0\n",
        "\n",
        "  for i in range(n):\n",
        "    #computing (x^i - x_bar)^2\n",
        "    sigma_xx += (float(df.iat[i, 1]) - x_bar) ** 2\n",
        "\n",
        "    #computing (x^i - x_bar) * (y^i - y_bar)\n",
        "    sigma_xy += (float(df.iat[i, 1]) - x_bar) * (float(df.iat[i, 2]) - y_bar)\n",
        "\n",
        "  # Check\n",
        "  print('sigma_xx:',sigma_xx, '\\nsigma_xy:',sigma_xy, '\\n')\n",
        "\n",
        "  # compute beta_0 and beta_1\n",
        "  beta_1 = sigma_xy / sigma_xx\n",
        "  beta_0 = y_bar - beta_1 * x_bar\n",
        "\n",
        "  # Check\n",
        "  print(f'The regression coefficients are intercept coefficient beta_0 : {beta_0}, \\nand slope coefficient beta_1 : {beta_1} \\n')\n",
        "\n",
        "  # compute sample correlation\n",
        "  sigma_yy = 0\n",
        "\n",
        "  for i in range(n):\n",
        "    y_i = float(df.iat[i, 2])\n",
        "    sigma_yy += (y_i - y_bar) ** 2\n",
        "\n",
        "  print(\"sigma_yy: \", sigma_yy, '\\n')\n",
        "\n",
        "  sample_corelation = sigma_xy / (np.sqrt(sigma_xx * sigma_yy))\n",
        "  print(\"sample_corelation: \", sample_corelation, '\\n')\n",
        "\n",
        "  # compute sum of squared residuals\n",
        "\n",
        "  sum_sq_residuals = 0\n",
        "\n",
        "  for i in range(n):\n",
        "    x_i = float(df.iat[i, 1])\n",
        "    y_i = float(df.iat[i, 2])\n",
        "\n",
        "    y_pred_i = beta_0 + beta_1 * x_i\n",
        "\n",
        "    sum_sq_residuals += (y_i - y_pred_i) ** 2\n",
        "\n",
        "  print(\"sum_sq_residuals: \", sum_sq_residuals, '\\n')\n",
        "\n",
        "  # compute R^2\n",
        "\n",
        "  r_sq = 1 - (sum_sq_residuals / sigma_yy)\n",
        "\n",
        "  print(\"R^2: \", r_sq, '\\n')\n",
        "\n",
        "  return beta_0, beta_1, r_sq"
      ],
      "metadata": {
        "id": "QA71cRYoRjJV"
      },
      "execution_count": 51,
      "outputs": []
    },
    {
      "cell_type": "code",
      "source": [
        "beta_0_m, beta_1_m, r_m = coefficients(df_men)"
      ],
      "metadata": {
        "colab": {
          "base_uri": "https://localhost:8080/"
        },
        "collapsed": true,
        "id": "E7iwor0WSsJ_",
        "outputId": "b8b46d7a-d9ef-41da-8b94-ff225a58f7f0"
      },
      "execution_count": 45,
      "outputs": [
        {
          "output_type": "stream",
          "name": "stdout",
          "text": [
            "The number of data points in the data set is : 29\n",
            "\n",
            "x bar: 1960.551724137931 \n",
            "y bar: 10.295172413793102 \n",
            "\n",
            "sigma_xx: 41175.17241379311 \n",
            "sigma_xy: -503.1627586206898 \n",
            "\n",
            "The regression coefficients are intercept coefficient beta_0 : 34.25321693688865, \n",
            "and slope coefficient beta_1 : -0.012220052257805173 \n",
            "\n",
            "sigma_yy:  7.5837241379310365 \n",
            "\n",
            "sample_corelation:  -0.9004290809320895 \n",
            "\n",
            "sum_sq_residuals:  1.4350489334047984 \n",
            "\n",
            "R^2:  0.8107725297882074 \n",
            "\n"
          ]
        }
      ]
    },
    {
      "cell_type": "code",
      "source": [
        "beta_0_w, beta_1_w, r_w = coefficients(df_women)"
      ],
      "metadata": {
        "colab": {
          "base_uri": "https://localhost:8080/"
        },
        "collapsed": true,
        "id": "M5U6yTsIT57v",
        "outputId": "0bdc0c7a-bdc2-4db3-a0ba-978564e9b9ec"
      },
      "execution_count": 46,
      "outputs": [
        {
          "output_type": "stream",
          "name": "stdout",
          "text": [
            "The number of data points in the data set is : 22\n",
            "\n",
            "x bar: 1976.909090909091 \n",
            "y bar: 11.135909090909092 \n",
            "\n",
            "sigma_xx: 16157.818181818171 \n",
            "sigma_xy: -233.59818181818184 \n",
            "\n",
            "The regression coefficients are intercept coefficient beta_0 : 39.71664716208311, \n",
            "and slope coefficient beta_1 : -0.014457284961966074 \n",
            "\n",
            "sigma_yy:  4.174331818181818 \n",
            "\n",
            "sample_corelation:  -0.8994657184602947 \n",
            "\n",
            "sum_sq_residuals:  0.797136337039202 \n",
            "\n",
            "R^2:  0.8090385786852937 \n",
            "\n"
          ]
        }
      ]
    },
    {
      "cell_type": "code",
      "source": [
        "year_to_predict = 2024"
      ],
      "metadata": {
        "id": "R1_wkLw4RQFh"
      },
      "execution_count": 28,
      "outputs": []
    },
    {
      "cell_type": "markdown",
      "source": [
        "${\\text{Predicting for Men's 100 m sprint value for 2024}}:$"
      ],
      "metadata": {
        "id": "ODNJwUDERHdW"
      }
    },
    {
      "cell_type": "code",
      "source": [
        "# Make the prediction\n",
        "predicted_mens_value = beta_1_m * year_to_predict + beta_0_m\n",
        "rounded_predicted_mens_value = round(predicted_mens_value, 4)"
      ],
      "metadata": {
        "id": "zHHSG9AFT23B"
      },
      "execution_count": 47,
      "outputs": []
    },
    {
      "cell_type": "markdown",
      "source": [
        "${\\text{Predicting for Women's 100 m sprint value for 2024}}:$"
      ],
      "metadata": {
        "id": "f2qcLAVEUwwG"
      }
    },
    {
      "cell_type": "code",
      "source": [
        "# Make the prediction\n",
        "predicted_womens_value = beta_1_w * year_to_predict + beta_0_w\n",
        "rounded_predicted_womens_value = round(predicted_womens_value, 4)"
      ],
      "metadata": {
        "id": "NDIHiM1IUzBj"
      },
      "execution_count": 48,
      "outputs": []
    },
    {
      "cell_type": "markdown",
      "source": [
        "Predictions"
      ],
      "metadata": {
        "id": "psoZLz47VCGu"
      }
    },
    {
      "cell_type": "code",
      "source": [
        "print(f\"Predicted men's value for year {year_to_predict}: {rounded_predicted_mens_value} seconds, with the R^2 value of : {round(r_m, 4)}\")\n",
        "print(f\"Predicted women's value for year {year_to_predict}: {rounded_predicted_womens_value} seconds, with the R^2 value of : {round(r_w, 4)}\")"
      ],
      "metadata": {
        "colab": {
          "base_uri": "https://localhost:8080/"
        },
        "id": "pUxeTKrxU7dq",
        "outputId": "cf55c1d6-ccfc-4e7d-ee0a-0f699c721bca"
      },
      "execution_count": 50,
      "outputs": [
        {
          "output_type": "stream",
          "name": "stdout",
          "text": [
            "Predicted men's value for year 2024: 9.5198 seconds, with the R^2 value of : 0.8108\n",
            "Predicted women's value for year 2024: 10.4551 seconds, with the R^2 value of : 0.809\n"
          ]
        }
      ]
    }
  ]
}